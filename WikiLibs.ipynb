{
 "cells": [
  {
   "cell_type": "code",
   "execution_count": 29,
   "metadata": {},
   "outputs": [],
   "source": [
    "import nltk\n",
    "import urllib.request, urllib.error, urllib.parse\n",
    "from bs4 import *\n",
    "import datetime\n",
    "import io"
   ]
  },
  {
   "cell_type": "code",
   "execution_count": 53,
   "metadata": {},
   "outputs": [
    {
     "name": "stdout",
     "output_type": "stream",
     "text": [
      "<title>John Savile, 1st Earl of Mexborough - Wikipedia</title>\n",
      "[<p><b>John Savile, 1st Earl of Mexborough</b> (December 1719 – 17 February 1778), known as <b>The Lord Pollington</b> between 1753 and 1766, was a British peer and <a class=\"mw-redirect\" href=\"/wiki/Member_of_Parliament\" title=\"Member of Parliament\">Member of Parliament</a>.\n",
      "</p>, <p>Savile was the eldest son of Charles Savile of Methley (1676–1741). He entered Parliament in 1747 as member for <a href=\"/wiki/Hedon_(UK_Parliament_constituency)\" title=\"Hedon (UK Parliament constituency)\">Hedon</a> in <a class=\"mw-redirect\" href=\"/wiki/East_Yorkshire\" title=\"East Yorkshire\">East Yorkshire</a>, and subsequently also represented <a href=\"/wiki/New_Shoreham_(UK_Parliament_constituency)\" title=\"New Shoreham (UK Parliament constituency)\">New Shoreham</a>. In 1749 he was appointed a Knight Companion of the <a href=\"/wiki/Order_of_the_Bath\" title=\"Order of the Bath\">Order of the Bath</a>. In November 1753 he was raised to the <a href=\"/wiki/Peerage_of_Ireland\" title=\"Peerage of Ireland\">Peerage of Ireland</a> as <b>Baron Pollington</b> of Longford in the County of Longford whilst remaining an MP.  In February 1766 he was created <b>Viscount Pollington</b> of Ferns in the County of Wexford and <b>Earl of <a href=\"/wiki/Mexborough\" title=\"Mexborough\">Mexborough</a></b> of Lifford in the County of Donegal, again in the Irish peerage.\n",
      "</p>, <p>Mexborough was a friend and patron of the playwright and actor-manager <a href=\"/wiki/Samuel_Foote\" title=\"Samuel Foote\">Samuel Foote</a>; it was while on a visit to Mexborough in 1766 that Foote lost a leg in a riding accident.\n",
      "</p>, <p>He married Sarah Delaval (d. 1821) in 1760, and they had three sons:\n",
      "</p>, <p class=\"mw-empty-elt\">\n",
      "</p>]\n"
     ]
    }
   ],
   "source": [
    "url = 'https://en.wikipedia.org/wiki/Special:Random'\n",
    "\n",
    "response = urllib.request.urlopen(url)\n",
    "webContent = response.read()\n",
    "\n",
    "# print(webContent)\n",
    "soup = BeautifulSoup(webContent, 'html.parser')\n",
    "print(soup.title)\n",
    "print(soup.find_all('p'))\n",
    "\n",
    "with io.open(\"output1.html\", \"w\", encoding=\"utf-8\") as file:\n",
    "    file.write(str(soup.title) + \"\\n\"+ str(soup.find_all('p')))"
   ]
  },
  {
   "cell_type": "code",
   "execution_count": 17,
   "metadata": {},
   "outputs": [],
   "source": [
    "def crawl(pages, depth=None):\n",
    "    indexed_url = [] # a list for the main and sub-HTML websites in the main website\n",
    "    for i in range(depth):\n",
    "        for page in pages:\n",
    "            if page not in indexed_url:\n",
    "                indexed_url.append(page)\n",
    "                try:\n",
    "                    c = urllib.request.urlopen(page)\n",
    "                except:\n",
    "                    print( \"Could not open %s\" % page)\n",
    "                    continue\n",
    "                soup = BeautifulSoup(c.read())\n",
    "                links = soup('a') #finding all the sub_links\n",
    "                for link in links:\n",
    "                    if 'href' in dict(link.attrs):\n",
    "                        url = urllib.parse.urljoin(page, link['href'])\n",
    "                        if url.find(\"'\") != -1:\n",
    "                                continue\n",
    "                        url = url.split('#')[0] \n",
    "                        if url[0:4] == 'http':\n",
    "                                indexed_url.append(url)\n",
    "        pages = indexed_url\n",
    "    return indexed_url\n"
   ]
  },
  {
   "cell_type": "code",
   "execution_count": 27,
   "metadata": {
    "scrolled": true
   },
   "outputs": [],
   "source": [
    "pagelist=[\"https://en.wikipedia.org/wiki/Python_%28programming_language%29\"]\n",
    "urls = crawl(pagelist, depth=1)\n",
    "# print( urls )"
   ]
  },
  {
   "cell_type": "code",
   "execution_count": null,
   "metadata": {},
   "outputs": [],
   "source": []
  }
 ],
 "metadata": {
  "kernelspec": {
   "display_name": "Python 3",
   "language": "python",
   "name": "python3"
  },
  "language_info": {
   "codemirror_mode": {
    "name": "ipython",
    "version": 3
   },
   "file_extension": ".py",
   "mimetype": "text/x-python",
   "name": "python",
   "nbconvert_exporter": "python",
   "pygments_lexer": "ipython3",
   "version": "3.7.6"
  }
 },
 "nbformat": 4,
 "nbformat_minor": 4
}
