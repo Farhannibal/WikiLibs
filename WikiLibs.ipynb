{
 "cells": [
  {
   "cell_type": "code",
   "execution_count": 41,
   "metadata": {},
   "outputs": [],
   "source": [
    "import os, sys\n",
    "import nltk\n",
    "import urllib.request, urllib.error\n",
    "import requests\n",
    "from urllib.parse import urljoin\n",
    "from bs4 import *\n",
    "import datetime\n",
    "import io\n",
    "import re"
   ]
  },
  {
   "cell_type": "code",
   "execution_count": 45,
   "metadata": {},
   "outputs": [
    {
     "name": "stderr",
     "output_type": "stream",
     "text": [
      "[Errno 2] No such file or directory: 'wiki\\\\'\n",
      "No connection adapters were found for 'mw-data:TemplateStyles:r971394783'\n",
      "No connection adapters were found for 'mw-data:TemplateStyles:r951705291'\n"
     ]
    }
   ],
   "source": [
    "def savePage(url, pagefilename='page'):\n",
    "    def soupfindnSave(pagefolder, tag2find='img', inner='src'):\n",
    "        \"\"\"saves on specified `pagefolder` all tag2find objects\"\"\"\n",
    "        if not os.path.exists(pagefolder): # create only once\n",
    "            os.mkdir(pagefolder)\n",
    "        for res in soup.findAll(tag2find):   # images, css, etc..\n",
    "            try:         \n",
    "                if not res.has_attr(inner): # check if inner tag (file object) exists\n",
    "                    continue # may or may not exist\n",
    "                filename = re.sub('\\W+', '', os.path.basename(res[inner])) # clean special chars\n",
    "                fileurl = urljoin(url, res.get(inner))\n",
    "                filepath = os.path.join(pagefolder, filename)\n",
    "                # rename html ref so can move html and folder of files anywhere\n",
    "                res[inner] = os.path.join(os.path.basename(pagefolder), filename)\n",
    "                if not os.path.isfile(filepath): # was not downloaded\n",
    "                    with open(filepath, 'wb') as file:\n",
    "                        filebin = session.get(fileurl)\n",
    "                        file.write(filebin.content)\n",
    "            except Exception as exc:\n",
    "                print(exc, file=sys.stderr)\n",
    "        return soup\n",
    "    \n",
    "    session = requests.Session()\n",
    "    #... whatever other requests config you need here\n",
    "    response = session.get(url)\n",
    "    soup = BeautifulSoup(response.text, features=\"lxml\")\n",
    "    pagefolder = pagefilename\n",
    "    soup = soupfindnSave(pagefolder, 'img', 'src')\n",
    "    soup = soupfindnSave(pagefolder, 'link', 'href')\n",
    "    soup = soupfindnSave(pagefolder, 'script', 'src')\n",
    "    with open(pagefilename+'.html', 'wb') as file:\n",
    "        file.write(soup.prettify('utf-8'))\n",
    "    return soup\n",
    "\n",
    "soup = savePage('https://en.wikipedia.org/wiki/Special:Random', 'wiki')"
   ]
  },
  {
   "cell_type": "code",
   "execution_count": 37,
   "metadata": {
    "scrolled": true
   },
   "outputs": [
    {
     "name": "stdout",
     "output_type": "stream",
     "text": [
      "Total CSS files in the page: 18\n"
     ]
    }
   ],
   "source": [
    "url = 'https://en.wikipedia.org/wiki/Special:Random'\n",
    "\n",
    "response = urllib.request.urlopen(url)\n",
    "webContent = response.read()\n",
    "\n",
    "# print(webContent)\n",
    "soup = BeautifulSoup(webContent, 'html.parser')\n",
    "\n",
    "\n",
    "\n",
    "css_files = []\n",
    "\n",
    "for css in soup.find_all(\"link\"):\n",
    "    if css.attrs.get(\"href\"):\n",
    "        # if the link tag has the 'href' attribute\n",
    "        css_url = urljoin(url, css.attrs.get(\"href\"))\n",
    "        css_files.append(css_url)\n",
    "\n",
    "\n",
    "print(\"Total CSS files in the page:\", len(css_files))\n",
    "\n",
    "with open(\"css_files.txt\", \"w\") as f:\n",
    "    for css_file in css_files:\n",
    "        print(css_file, file=f)\n",
    "        \n",
    "        \n",
    "# print('\\n'.join([str(i) for i in soup.find_all('p')]))\n",
    "# print([i for i in soup.find_all('p')])\n",
    "\n",
    "with io.open(\"output1.html\", \"w\", encoding=\"utf-8\") as file:\n",
    "    file.write(str(soup.title) + '\\n'.join([str(i) for i in soup.find_all('p')]))"
   ]
  },
  {
   "cell_type": "code",
   "execution_count": 3,
   "metadata": {},
   "outputs": [],
   "source": [
    "def crawl(pages, depth=None):\n",
    "    indexed_url = [] # a list for the main and sub-HTML websites in the main website\n",
    "    for i in range(depth):\n",
    "        for page in pages:\n",
    "            if page not in indexed_url:\n",
    "                indexed_url.append(page)\n",
    "                try:\n",
    "                    c = urllib.request.urlopen(page)\n",
    "                except:\n",
    "                    print( \"Could not open %s\" % page)\n",
    "                    continue\n",
    "                soup = BeautifulSoup(c.read())\n",
    "                links = soup('a') #finding all the sub_links\n",
    "                for link in links:\n",
    "                    if 'href' in dict(link.attrs):\n",
    "                        url = urllib.parse.urljoin(page, link['href'])\n",
    "                        if url.find(\"'\") != -1:\n",
    "                                continue\n",
    "                        url = url.split('#')[0] \n",
    "                        if url[0:4] == 'http':\n",
    "                                indexed_url.append(url)\n",
    "        pages = indexed_url\n",
    "    return indexed_url\n"
   ]
  },
  {
   "cell_type": "code",
   "execution_count": 4,
   "metadata": {
    "scrolled": true
   },
   "outputs": [],
   "source": [
    "pagelist=[\"https://en.wikipedia.org/wiki/Python_%28programming_language%29\"]\n",
    "urls = crawl(pagelist, depth=1)\n",
    "# print( urls )"
   ]
  },
  {
   "cell_type": "code",
   "execution_count": null,
   "metadata": {},
   "outputs": [],
   "source": []
  }
 ],
 "metadata": {
  "kernelspec": {
   "display_name": "Python 3",
   "language": "python",
   "name": "python3"
  },
  "language_info": {
   "codemirror_mode": {
    "name": "ipython",
    "version": 3
   },
   "file_extension": ".py",
   "mimetype": "text/x-python",
   "name": "python",
   "nbconvert_exporter": "python",
   "pygments_lexer": "ipython3",
   "version": "3.7.6"
  }
 },
 "nbformat": 4,
 "nbformat_minor": 4
}
