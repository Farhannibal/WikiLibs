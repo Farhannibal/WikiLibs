{
 "cells": [
  {
   "cell_type": "code",
   "execution_count": 1,
   "metadata": {},
   "outputs": [],
   "source": [
    "import nltk\n",
    "import urllib.request, urllib.error, urllib.parse\n",
    "from bs4 import *\n",
    "import datetime\n",
    "import io"
   ]
  },
  {
   "cell_type": "code",
   "execution_count": 2,
   "metadata": {},
   "outputs": [
    {
     "name": "stdout",
     "output_type": "stream",
     "text": [
      "<title>Commonwealth v. Mitchneck - Wikipedia</title>\n",
      "[<p><i><b>Commonwealth v. Mitchneck</b></i>, 130 <a href=\"/wiki/Superior_Court_of_Pennsylvania\" title=\"Superior Court of Pennsylvania\">Pa. Super.</a> 433, 198 <a href=\"/wiki/Atlantic_Reporter\" title=\"Atlantic Reporter\">A.</a> 463 (1938),<sup class=\"reference\" id=\"cite_ref-1\"><a href=\"#cite_note-1\">[1]</a></sup> is a <a class=\"mw-redirect\" href=\"/wiki/Criminal_case\" title=\"Criminal case\">criminal case</a> involving the meaning of <a href=\"/wiki/Theft\" title=\"Theft\">theft</a> and ownership.<sup class=\"reference\" id=\"cite_ref-CL_2-0\"><a href=\"#cite_note-CL-2\">[2]</a></sup><sup class=\"reference\" style=\"white-space:nowrap;\">:<span>943–4</span></sup> Mitchneck operated a coal mine. Mitchneck's employees signed orders directing Mitchneck to deduct amounts from their wages to pay their bills at a store.<sup class=\"reference\" id=\"cite_ref-CL_2-1\"><a href=\"#cite_note-CL-2\">[2]</a></sup><sup class=\"reference\" style=\"white-space:nowrap;\">:<span>943–4</span></sup> Mitchneck did not pay their bills.<sup class=\"reference\" id=\"cite_ref-CL_2-2\"><a href=\"#cite_note-CL-2\">[2]</a></sup><sup class=\"reference\" style=\"white-space:nowrap;\">:<span>943–4</span></sup> Mitchneck was convicted of <a class=\"mw-redirect\" href=\"/wiki/Fraudulent_conversion\" title=\"Fraudulent conversion\">fraudulent conversion</a> of the employee's money.<sup class=\"reference\" id=\"cite_ref-CL_2-3\"><a href=\"#cite_note-CL-2\">[2]</a></sup><sup class=\"reference\" style=\"white-space:nowrap;\">:<span>943–4</span></sup>\n",
      "</p>, <p>The Pennsylvania Superior Court reversed the conviction and ordered acquittal.<sup class=\"reference\" id=\"cite_ref-CL_2-4\"><a href=\"#cite_note-CL-2\">[2]</a></sup><sup class=\"reference\" style=\"white-space:nowrap;\">:<span>943–4</span></sup> The court found that although Mitchneck owed money to the employees, any money held by Mitchneck (if it ever existed) did not yet belong to the employees, since it never entered into their hands in order to transfer ownership.<sup class=\"reference\" id=\"cite_ref-CL_2-5\"><a href=\"#cite_note-CL-2\">[2]</a></sup><sup class=\"reference\" style=\"white-space:nowrap;\">:<span>943–4</span></sup> The court held that criminal court cannot be used as a substitute for civil court to collect a debt.<sup class=\"reference\" id=\"cite_ref-CL_2-6\"><a href=\"#cite_note-CL-2\">[2]</a></sup><sup class=\"reference\" style=\"white-space:nowrap;\">:<span>943–4</span></sup>\n",
      "</p>, <p>The court wrote,\n",
      "</p>]\n"
     ]
    }
   ],
   "source": [
    "url = 'https://en.wikipedia.org/wiki/Special:Random'\n",
    "\n",
    "response = urllib.request.urlopen(url)\n",
    "webContent = response.read()\n",
    "\n",
    "# print(webContent)\n",
    "soup = BeautifulSoup(webContent, 'html.parser')\n",
    "print(soup.title)\n",
    "print(soup.find_all('p'))\n",
    "\n",
    "with io.open(\"output1.html\", \"w\", encoding=\"utf-8\") as file:\n",
    "    file.write(str(soup.title) + \"\\n\"+ str(soup.find_all('p')))"
   ]
  },
  {
   "cell_type": "code",
   "execution_count": 3,
   "metadata": {},
   "outputs": [],
   "source": [
    "def crawl(pages, depth=None):\n",
    "    indexed_url = [] # a list for the main and sub-HTML websites in the main website\n",
    "    for i in range(depth):\n",
    "        for page in pages:\n",
    "            if page not in indexed_url:\n",
    "                indexed_url.append(page)\n",
    "                try:\n",
    "                    c = urllib.request.urlopen(page)\n",
    "                except:\n",
    "                    print( \"Could not open %s\" % page)\n",
    "                    continue\n",
    "                soup = BeautifulSoup(c.read())\n",
    "                links = soup('a') #finding all the sub_links\n",
    "                for link in links:\n",
    "                    if 'href' in dict(link.attrs):\n",
    "                        url = urllib.parse.urljoin(page, link['href'])\n",
    "                        if url.find(\"'\") != -1:\n",
    "                                continue\n",
    "                        url = url.split('#')[0] \n",
    "                        if url[0:4] == 'http':\n",
    "                                indexed_url.append(url)\n",
    "        pages = indexed_url\n",
    "    return indexed_url\n"
   ]
  },
  {
   "cell_type": "code",
   "execution_count": 4,
   "metadata": {
    "scrolled": true
   },
   "outputs": [],
   "source": [
    "pagelist=[\"https://en.wikipedia.org/wiki/Python_%28programming_language%29\"]\n",
    "urls = crawl(pagelist, depth=1)\n",
    "# print( urls )"
   ]
  },
  {
   "cell_type": "code",
   "execution_count": null,
   "metadata": {},
   "outputs": [],
   "source": []
  }
 ],
 "metadata": {
  "kernelspec": {
   "display_name": "Python 3",
   "language": "python",
   "name": "python3"
  },
  "language_info": {
   "codemirror_mode": {
    "name": "ipython",
    "version": 3
   },
   "file_extension": ".py",
   "mimetype": "text/x-python",
   "name": "python",
   "nbconvert_exporter": "python",
   "pygments_lexer": "ipython3",
   "version": "3.7.6"
  }
 },
 "nbformat": 4,
 "nbformat_minor": 4
}
